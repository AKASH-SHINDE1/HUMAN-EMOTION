{
 "cells": [
  {
   "cell_type": "code",
   "execution_count": 2,
   "id": "8a6d2737",
   "metadata": {},
   "outputs": [],
   "source": [
    "import tensorflow as tf\n",
    "import keras\n",
    "import pandas as pd\n",
    "import numpy as np\n",
    "import matplotlib.pyplot as plt\n",
    "import seaborn as sns\n",
    "from tensorflow.keras.utils import to_categorical\n",
    "from keras.models import Sequential\n",
    "from keras.layers import Conv2D , MaxPool2D , Flatten , Dense , Dropout\n",
    "import cv2\n",
    "import os\n",
    "\n",
    "pd.set_option('display.max_rows',None)                     # to display max rows and column\n",
    "pd.set_option('display.max_columns',None)"
   ]
  },
  {
   "cell_type": "code",
   "execution_count": 2,
   "id": "c3297024",
   "metadata": {},
   "outputs": [],
   "source": [
    "\n",
    "\n",
    "image_size = 200  #  you can keep any image size..but image size plays big role in model creation\n",
    "                  # if image size is less..computation needed is less..but at the same time model performance may be bad\n",
    "path1 = r'E:\\PGA $$ 23 $$\\Deep Learning\\CNN\\EMOTION'\n",
    "cate  = ['ANGRY','HAPPY']\n",
    "    \n",
    "input_image = []    \n",
    "for i in cate:\n",
    "    folders = os.path.join(path1 ,i)\n",
    "    label   = cate.index(i)   # we need to tell software which image is of cat and which is of dog\n",
    "    for image in os.listdir(folders):\n",
    "        image_path  = os.path.join(folders , image)\n",
    "        image_array =  cv2.imread(image_path) #  using the cv2 i am reading the image and storing in variable image_array\n",
    "        image_array = cv2.resize(image_array , (image_size  , image_size) ) # resizing each image to 200 * 200\n",
    "        input_image.append([image_array , label])"
   ]
  },
  {
   "cell_type": "code",
   "execution_count": 3,
   "id": "1f72a3be",
   "metadata": {},
   "outputs": [
    {
     "data": {
      "text/plain": [
       "11025"
      ]
     },
     "execution_count": 3,
     "metadata": {},
     "output_type": "execute_result"
    }
   ],
   "source": [
    "len(input_image)"
   ]
  },
  {
   "cell_type": "code",
   "execution_count": 4,
   "id": "1f17ec77",
   "metadata": {},
   "outputs": [
    {
     "data": {
      "text/plain": [
       "(10000, 200, 200, 3)"
      ]
     },
     "execution_count": 4,
     "metadata": {},
     "output_type": "execute_result"
    }
   ],
   "source": [
    "np.random.shuffle(input_image)\n",
    "\n",
    "\n",
    "X  = []\n",
    "Y =  []\n",
    "\n",
    "for X_values , labels in input_image:\n",
    "    X.append(X_values)\n",
    "    Y.append(labels)\n",
    "\n",
    "\n",
    "X = np.array(X)\n",
    "Y = np.array(Y)\n",
    "\n",
    "X_train = X[:10000]\n",
    "X_test = X[10000:]\n",
    "\n",
    "Y_train = Y[:10000]\n",
    "Y_test = Y[10000:]\n",
    "\n",
    "X_train = X_train/255\n",
    "X_test = X_test/255\n",
    "X_train.shape\n"
   ]
  },
  {
   "cell_type": "code",
   "execution_count": 5,
   "id": "ccd0b9e9",
   "metadata": {},
   "outputs": [],
   "source": [
    "from keras.models import Sequential\n",
    "from keras.layers import Conv2D , MaxPool2D , Flatten , Dense , Dropout\n",
    "\n",
    "model = Sequential()\n",
    "model.add(Conv2D(filters = 16 , kernel_size =(5,5) , activation ='relu'     ))\n",
    "#model.add(Conv2D(filters = 20 , kernel_size =(3,3) , activation ='relu'     ))\n",
    "\n",
    "model.add(MaxPool2D(pool_size =(2,2)))\n",
    "\n",
    "\n",
    "\n",
    "model.add(Flatten())\n",
    "model.add(Dense(128 , activation = 'relu' , input_shape = X.shape[1:]))\n",
    "\n",
    "model.add(Dense(2 , activation= 'softmax'))\n",
    "\n",
    "model.compile(optimizer='adam',   loss = 'sparse_categorical_crossentropy'  , metrics = ['accuracy'] )\n"
   ]
  },
  {
   "cell_type": "code",
   "execution_count": 6,
   "id": "2f1bda7a",
   "metadata": {},
   "outputs": [
    {
     "name": "stdout",
     "output_type": "stream",
     "text": [
      "Epoch 1/2\n",
      "250/250 [==============================] - 562s 2s/step - loss: 0.6627 - accuracy: 0.9115 - val_loss: 0.0964 - val_accuracy: 0.9765\n",
      "Epoch 2/2\n",
      "250/250 [==============================] - 195s 781ms/step - loss: 0.0977 - accuracy: 0.9843 - val_loss: 0.0741 - val_accuracy: 0.9835\n"
     ]
    },
    {
     "data": {
      "text/plain": [
       "<keras.callbacks.History at 0x1ab10e7c490>"
      ]
     },
     "execution_count": 6,
     "metadata": {},
     "output_type": "execute_result"
    }
   ],
   "source": [
    "model.fit(X_train , Y_train, epochs = 2,validation_split =.2  )"
   ]
  },
  {
   "cell_type": "code",
   "execution_count": 7,
   "id": "ccc778bd",
   "metadata": {},
   "outputs": [
    {
     "data": {
      "text/plain": [
       "array([[3.5703611e-02, 9.6429640e-01],\n",
       "       [9.9933124e-01, 6.6875300e-04],\n",
       "       [9.9991488e-01, 8.5101557e-05],\n",
       "       ...,\n",
       "       [9.9963689e-01, 3.6306499e-04],\n",
       "       [9.9982268e-01, 1.7731873e-04],\n",
       "       [5.5938433e-03, 9.9440610e-01]], dtype=float32)"
      ]
     },
     "execution_count": 7,
     "metadata": {},
     "output_type": "execute_result"
    }
   ],
   "source": [
    "pred1 = model.predict(X_test)\n",
    "pred1"
   ]
  },
  {
   "cell_type": "code",
   "execution_count": 8,
   "id": "03f44c8a",
   "metadata": {},
   "outputs": [
    {
     "data": {
      "text/plain": [
       "0.9853658536585366"
      ]
     },
     "execution_count": 8,
     "metadata": {},
     "output_type": "execute_result"
    }
   ],
   "source": [
    "from sklearn.metrics import accuracy_score\n",
    "accuracy_score(np.argmax(pred1,1),Y_test)"
   ]
  },
  {
   "cell_type": "code",
   "execution_count": 9,
   "id": "47ae8ef3",
   "metadata": {},
   "outputs": [
    {
     "data": {
      "text/plain": [
       "array([[451,   6],\n",
       "       [  9, 559]], dtype=int64)"
      ]
     },
     "execution_count": 9,
     "metadata": {},
     "output_type": "execute_result"
    }
   ],
   "source": [
    "from sklearn.metrics import confusion_matrix\n",
    "confusion_matrix(np.argmax(pred1,1),Y_test)"
   ]
  },
  {
   "cell_type": "code",
   "execution_count": null,
   "id": "49d52cd6",
   "metadata": {},
   "outputs": [],
   "source": [
    "model.save('mask_&_no_mask.h5')   # Save after model fit"
   ]
  },
  {
   "cell_type": "code",
   "execution_count": 18,
   "id": "7a3737e2",
   "metadata": {},
   "outputs": [],
   "source": [
    "import cv2 \n",
    "from PIL import Image\n",
    "import numpy as np\n",
    "from keras.models import load_model\n",
    "#model = load_model(\"F:\\pranjal\\knowledge\\data analytics\\R programing\\conducting classes\\PythonModel\\my_mask_NoMask_model.h5\") \n",
    "#model=load_model(r\"C:\\Users\\ASHISH SHINDE\\Inclass\\mask_no_mask.h5\")\n",
    "\n",
    "results={1:'ANGRY',0:'HAPPY'}\n",
    "GR_dict={1:(0,0,255),0:(0,255,255)}\n",
    "\n",
    "rect_size = 4\n",
    "cap = cv2.VideoCapture(0)\n",
    "\n",
    "\n",
    "haarcascade = cv2.CascadeClassifier(r\"E:\\PGA $$ 23 $$\\Deep Learning\\CNN\\Harcascade\\haarcascade_frontalface_default.xml\")\n",
    "while True:\n",
    "    (rval, im) = cap.read()\n",
    "    im=cv2.flip(im,1,1)\n",
    "    rerect_size = cv2.resize(im, (im.shape[1] // rect_size, im.shape[0] // rect_size))\n",
    "    faces = haarcascade.detectMultiScale(rerect_size)\n",
    "    for f in faces:\n",
    "        (x, y, w, h) = [v * rect_size for v in f] \n",
    "        \n",
    "        face_img = im[y:y+h, x:x+w]\n",
    "        rerect_sized=cv2.resize(face_img,(200,200))\n",
    "        normalized=rerect_sized/255.0\n",
    "        reshaped=np.reshape(normalized,(1,200,200,3))\n",
    "        reshaped = np.vstack([reshaped])\n",
    "        result=model.predict(reshaped)\n",
    "\n",
    "        \n",
    "        label=np.argmax(result,axis=1)[0]\n",
    "        cv2.rectangle(im,(x,y),(x+w,y+h),GR_dict[label],2)\n",
    "        cv2.rectangle(im,(x,y-40),(x+w,y),GR_dict[label],-1)\n",
    "        cv2.putText(im, results[label], (x, y-10),cv2.FONT_HERSHEY_SIMPLEX,0.8,(255,0,0),2)\n",
    "\n",
    "    cv2.imshow('Liv Camera',   im)\n",
    "    key = cv2.waitKey(10)\n",
    "    \n",
    "    if key == 27: # use the escape key\n",
    "        break\n",
    "\n",
    "cap.release()\n",
    "\n",
    "cv2.destroyAllWindows()"
   ]
  },
  {
   "cell_type": "code",
   "execution_count": 18,
   "id": "3d331922",
   "metadata": {},
   "outputs": [],
   "source": [
    "model.save('EMOTION.h5')"
   ]
  },
  {
   "cell_type": "code",
   "execution_count": 1,
   "id": "078bd4b7",
   "metadata": {},
   "outputs": [],
   "source": [
    "from keras.models import load_model\n",
    "#model = load_model(\"F:\\pranjal\\knowledge\\data analytics\\R programing\\conducting classes\\PythonModel\\my_mask_NoMask_model.h5\") \n",
    "model=load_model(r\"C:\\Users\\ASHISH SHINDE\\Inclass\\EMOTION.h5\")"
   ]
  },
  {
   "cell_type": "code",
   "execution_count": null,
   "id": "0c765d67",
   "metadata": {},
   "outputs": [],
   "source": [
    "import cv2\n",
    "import numpy as np\n",
    "from keras.models import load_model\n",
    "#model = load_model(\"F:\\pranjal\\knowledge\\data analytics\\R programing\\conducting classes\\PythonModel\\my_mask_NoMask_model.h5\") \n",
    "#model=load_model(r\"C:\\Users\\ASHISH SHINDE\\Inclass\\mask_no_mask.h5\")\n",
    "\n",
    "results={1:'Angry',0:'Happy'}\n",
    "GR_dict={1:(0,0,255),0:(0,255,0)}\n",
    "\n",
    "rect_size = 4\n",
    "cap = cv2.VideoCapture(0) \n",
    "\n",
    "\n",
    "haarcascade = cv2.CascadeClassifier(r\"E:\\PGA $$ 23 $$\\Deep Learning\\CNN\\Harcascade\\haarcascade_frontalface_default.xml\")\n",
    "while True:\n",
    "    (rval, im) = cap.read()\n",
    "    im=cv2.flip(im,1,1)\n",
    "    rerect_size = cv2.resize(im, (im.shape[1] // rect_size, im.shape[0] // rect_size))\n",
    "    faces = haarcascade.detectMultiScale(rerect_size)\n",
    "    for f in faces:\n",
    "        (x, y, w, h) = [v * rect_size for v in f] \n",
    "        \n",
    "        face_img = im[y:y+h, x:x+w]\n",
    "        rerect_sized=cv2.resize(face_img,(200,200))\n",
    "        normalized=rerect_sized/255.0\n",
    "        reshaped=np.reshape(normalized,(1,200,200,3))\n",
    "        reshaped = np.vstack([reshaped])\n",
    "        result=model.predict(reshaped)\n",
    "\n",
    "        \n",
    "        label=np.argmax(result,axis=1)[0]\n",
    "        cv2.rectangle(im,(x,y),(x+w,y+h),GR_dict[label],2)\n",
    "        cv2.rectangle(im,(x,y-40),(x+w,y),GR_dict[label],-1)\n",
    "        cv2.putText(im, results[label], (x, y-10),cv2.FONT_HERSHEY_SIMPLEX,0.8,(255,0,0),2)\n",
    "\n",
    "    cv2.imshow('Liv Camera',   im)\n",
    "    key = cv2.waitKey(10)\n",
    "    \n",
    "    if key == 27: # use the escape key\n",
    "        break\n",
    "\n",
    "cap.release()\n",
    "\n",
    "cv2.destroyAllWindows()\n",
    "\n"
   ]
  },
  {
   "cell_type": "code",
   "execution_count": null,
   "id": "4a617293",
   "metadata": {},
   "outputs": [],
   "source": []
  }
 ],
 "metadata": {
  "kernelspec": {
   "display_name": "Python 3",
   "language": "python",
   "name": "python3"
  },
  "language_info": {
   "codemirror_mode": {
    "name": "ipython",
    "version": 3
   },
   "file_extension": ".py",
   "mimetype": "text/x-python",
   "name": "python",
   "nbconvert_exporter": "python",
   "pygments_lexer": "ipython3",
   "version": "3.8.8"
  }
 },
 "nbformat": 4,
 "nbformat_minor": 5
}
